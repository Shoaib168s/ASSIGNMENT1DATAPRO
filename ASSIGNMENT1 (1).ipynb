{
 "cells": [
  {
   "cell_type": "code",
   "execution_count": null,
   "id": "3da2c27e-3e8b-40d5-b3c9-3487717a089d",
   "metadata": {},
   "outputs": [],
   "source": [
    "                         #PYTHON BASIC VARIABLE"
   ]
  },
  {
   "cell_type": "code",
   "execution_count": 3,
   "id": "98737bb0-99a8-4893-9518-668b253e20a2",
   "metadata": {},
   "outputs": [],
   "source": [
    "#1. Declare two variables, `x` and `y`, and assign them integer values.\n",
    "#Swap the values of these variables without using any temporary\n",
    "#variable"
   ]
  },
  {
   "cell_type": "code",
   "execution_count": 60,
   "id": "340758de-7244-4fd7-a2da-7200ddc3e399",
   "metadata": {},
   "outputs": [
    {
     "name": "stdout",
     "output_type": "stream",
     "text": [
      "The result after swapping is x= 3 y= 8\n"
     ]
    }
   ],
   "source": [
    "x = 8\n",
    "y = 3\n",
    "\n",
    "#formula used for swapping is\n",
    "x,y = y,x\n",
    "\n",
    "#print the result:\n",
    "\n",
    "print(\"The result after swapping is\",\"x=\",x, \"y=\",y)"
   ]
  },
  {
   "cell_type": "code",
   "execution_count": 5,
   "id": "162ae94f-37b6-4050-99ad-62a90b8dbe9d",
   "metadata": {},
   "outputs": [],
   "source": [
    "#2.Create a program that calculates the area of a rectangle. Take the\n",
    "#length and width as inputs from the user and store them in variables.\n",
    "#Calculate and display the area."
   ]
  },
  {
   "cell_type": "code",
   "execution_count": 15,
   "id": "f57d3ca1-b42c-4d9d-839b-058ac3f82ebd",
   "metadata": {},
   "outputs": [
    {
     "name": "stdin",
     "output_type": "stream",
     "text": [
      "enter the lenght of a rectangle 2\n",
      "enter the width of a rectangle 2.9\n"
     ]
    },
    {
     "name": "stdout",
     "output_type": "stream",
     "text": [
      "Area of a rectangle is 5.8\n"
     ]
    }
   ],
   "source": [
    "#take input from the user l(length) and w(width) of a rectangle\n",
    "l=float(input(\"enter the lenght of a rectangle\"))\n",
    "w=float(input(\"enter the width of a rectangle\"))\n",
    "\n",
    "# write the formula for area of a rectangle\n",
    "Area=(l * w)\n",
    "\n",
    "#print the result\n",
    "print('Area of a rectangle is',Area)\n"
   ]
  },
  {
   "cell_type": "code",
   "execution_count": 16,
   "id": "460d8620-9b15-4907-8de0-fe382c0e45c8",
   "metadata": {},
   "outputs": [],
   "source": [
    "#3.Write a Python program that converts temperature from Celsius to\n",
    "#Fahrenheit. Take the temperature in Celsius as input, store it in a\n",
    "#variable, convert it to Fahrenheit, and display the result."
   ]
  },
  {
   "cell_type": "code",
   "execution_count": 26,
   "id": "4a57dbcd-4f37-4495-b394-b3fa52c76391",
   "metadata": {},
   "outputs": [
    {
     "name": "stdin",
     "output_type": "stream",
     "text": [
      "Enter the temperature in Celsius scale 36\n"
     ]
    },
    {
     "name": "stdout",
     "output_type": "stream",
     "text": [
      "the value in fahrenheit scale is 96.8\n"
     ]
    }
   ],
   "source": [
    "#take input from user \n",
    "C = float(input(\"Enter the temperature in Celsius scale\"))\n",
    "\n",
    "# formula of fahrenheit to celsius and vice-versa is\n",
    "\n",
    "F = (C * 9/5) + 32\n",
    "\n",
    "#print the result\n",
    "print(\"The value in fahrenheit scale is\",F)\n"
   ]
  },
  {
   "cell_type": "code",
   "execution_count": 27,
   "id": "96b0aedd-79be-44fe-bbc5-c018247c75c9",
   "metadata": {},
   "outputs": [],
   "source": [
    "                    #TOPIC: String Based Questions"
   ]
  },
  {
   "cell_type": "code",
   "execution_count": 28,
   "id": "5eae350d-b61c-434f-9657-dd4d0bbc7b16",
   "metadata": {},
   "outputs": [],
   "source": [
    "#1. Write a Python program that takes a string as input and prints the\n",
    "#length of the string."
   ]
  },
  {
   "cell_type": "code",
   "execution_count": 33,
   "id": "28c24ce5-8b79-4559-b25a-fa01dfa851bd",
   "metadata": {},
   "outputs": [
    {
     "name": "stdin",
     "output_type": "stream",
     "text": [
      "enter the string MY NAME IS MD SHOAIB\n"
     ]
    },
    {
     "name": "stdout",
     "output_type": "stream",
     "text": [
      "the length of the string is 20\n"
     ]
    }
   ],
   "source": [
    "#take input from user\n",
    "S=(input(\"enter the string\"))\n",
    "\n",
    "#find length of the string by using\n",
    "l=len(S)\n",
    "\n",
    "#print the result\n",
    "print(\"the length of the string is\",l)"
   ]
  },
  {
   "cell_type": "code",
   "execution_count": 34,
   "id": "f1f0fc39-e51f-4290-a1e0-da7783af5cb9",
   "metadata": {},
   "outputs": [],
   "source": [
    "#2. Create a program that takes a sentence from the user and counts the\n",
    "#number of vowels (a, e, i, o, u) in the string."
   ]
  },
  {
   "cell_type": "code",
   "execution_count": 64,
   "id": "baa08ba2-f3de-4291-b0a1-098f4eea4477",
   "metadata": {},
   "outputs": [
    {
     "name": "stdin",
     "output_type": "stream",
     "text": [
      "Enter a sentence elephant\n"
     ]
    },
    {
     "name": "stdout",
     "output_type": "stream",
     "text": [
      "Number of vowels in the sentence 3\n"
     ]
    }
   ],
   "source": [
    "# Taking input from user\n",
    "sentence = input(\"Enter a sentence\")\n",
    "\n",
    "# Counting the vowels (case-insensitive) and displaying the count\n",
    "print(\"Number of vowels in the sentence\", sum(sentence.lower().count(vowel) for vowel in \"aeiou\"))"
   ]
  },
  {
   "cell_type": "code",
   "execution_count": 39,
   "id": "068e78d9-7d56-4df0-ac40-36507837668d",
   "metadata": {},
   "outputs": [],
   "source": [
    "#3.Given a string, reverse the order of characters using string slicing and\n",
    "#print the reversed string."
   ]
  },
  {
   "cell_type": "code",
   "execution_count": 44,
   "id": "a2409cba-e9d3-44b0-a2e1-baa50c7c827f",
   "metadata": {},
   "outputs": [
    {
     "name": "stdout",
     "output_type": "stream",
     "text": [
      "the reversed string is dlrow olleH\n"
     ]
    }
   ],
   "source": [
    "#assign one variable as s1\n",
    "s1=\"Hello world\"\n",
    "\n",
    "#reverse the string\n",
    "rev_strng = s1[::-1]\n",
    "\n",
    "#print the result\n",
    "print(\"the reversed string is\",rev_strng)"
   ]
  },
  {
   "cell_type": "code",
   "execution_count": 45,
   "id": "60cc569b-3604-4f41-b833-bfed7636dc8e",
   "metadata": {},
   "outputs": [],
   "source": [
    "#4.Write a program that takes a string as input and checks if it is a\n",
    "#palindrome (reads the same forwards and backwards)."
   ]
  },
  {
   "cell_type": "code",
   "execution_count": 53,
   "id": "25bb2e8d-cecd-41da-8b77-d0c6e84d746d",
   "metadata": {},
   "outputs": [
    {
     "name": "stdin",
     "output_type": "stream",
     "text": [
      "enter the string RAR\n"
     ]
    },
    {
     "name": "stdout",
     "output_type": "stream",
     "text": [
      "The input string is a palindrome.\n"
     ]
    }
   ],
   "source": [
    "#TAKING INPUT FROM USER\n",
    "S2=input(\"enter the string\")\n",
    "\n",
    "# REV THE STRING\n",
    "reve_string = S2[::-1]\n",
    "\n",
    "#  (palindrome check)\n",
    "if S2== reve_string :\n",
    "    print(\"The input string is a palindrome.\")\n",
    "else:\n",
    "    print(\"The input string is not a palindrome.\")"
   ]
  },
  {
   "cell_type": "code",
   "execution_count": 54,
   "id": "a6acb8be-d34c-4ade-b657-1a2e0c1dca0d",
   "metadata": {},
   "outputs": [],
   "source": [
    "#5Create a program that takes a string as input and removes all the\n",
    "#spaces from it. Print the modified string without spaces."
   ]
  },
  {
   "cell_type": "code",
   "execution_count": 57,
   "id": "e75dca71-7596-47a1-9f38-b37823646726",
   "metadata": {},
   "outputs": [
    {
     "name": "stdin",
     "output_type": "stream",
     "text": [
      "enter the string shoaib is a boy\n"
     ]
    },
    {
     "name": "stdout",
     "output_type": "stream",
     "text": [
      "enter the result shoaibisaboy\n"
     ]
    }
   ],
   "source": [
    "#enter the input from user\n",
    "S3=input(\"enter the string\")\n",
    "\n",
    "#modify the string named as m3\n",
    "m3=S3.replace(\" \",\"\")\n",
    "\n",
    "#print the result\n",
    "print(\"enter the result\",m3)\n"
   ]
  },
  {
   "cell_type": "code",
   "execution_count": null,
   "id": "ec021980-0f99-4263-850b-1579bdc9b15d",
   "metadata": {},
   "outputs": [],
   "source": []
  }
 ],
 "metadata": {
  "kernelspec": {
   "display_name": "Python 3 (ipykernel)",
   "language": "python",
   "name": "python3"
  },
  "language_info": {
   "codemirror_mode": {
    "name": "ipython",
    "version": 3
   },
   "file_extension": ".py",
   "mimetype": "text/x-python",
   "name": "python",
   "nbconvert_exporter": "python",
   "pygments_lexer": "ipython3",
   "version": "3.10.8"
  }
 },
 "nbformat": 4,
 "nbformat_minor": 5
}
